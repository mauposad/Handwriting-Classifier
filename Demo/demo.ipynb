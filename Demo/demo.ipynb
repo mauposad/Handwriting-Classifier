{
 "cells": [
  {
   "cell_type": "markdown",
   "metadata": {},
   "source": [
    "# Visual demonstration of trained CNN\n",
    "\n",
    "### Attempt at Graphic user interface demonstration"
   ]
  },
  {
   "cell_type": "code",
   "execution_count": 2,
   "metadata": {},
   "outputs": [],
   "source": [
    "import time\n",
    "import os\n",
    "import tkinter as tk\n",
    "from PIL import Image\n",
    "from PIL import ImageTk\n",
    "import numpy as np\n",
    "import torch\n",
    "import torch.nn as nn\n",
    "import torch.nn.functional as F\n",
    "from torch.utils.data import TensorDataset, DataLoader\n",
    "from PIL import Image, ImageDraw\n",
    "import matplotlib.pyplot as plt"
   ]
  },
  {
   "cell_type": "markdown",
   "metadata": {},
   "source": [
    "Creating Model architecture followed by initializing model w/ saved parameters from last test session"
   ]
  },
  {
   "cell_type": "code",
   "execution_count": 3,
   "metadata": {},
   "outputs": [],
   "source": [
    "class CNN(nn.Module):\n",
    "        def __init__(self,printtoggle):\n",
    "            super().__init__()\n",
    "\n",
    "\n",
    "            #print toggle\n",
    "            self.print = printtoggle\n",
    "\n",
    "            #first convolutional layer\n",
    "            # in channel, out channel, kernel size, padding\n",
    "            self.conv1 = nn.Conv2d(1,6,kernel_size=3,padding=1)\n",
    "            # batch normalization\n",
    "            self.bnorm1 = nn.BatchNorm2d(6) # input the number of channels on this layer\n",
    "\n",
    "            #second convolutional layer\n",
    "            self.conv2 = nn.Conv2d(6,6,kernel_size=3,padding=1,stride=1)\n",
    "            self.bnorm2 = nn.BatchNorm2d(6)\n",
    "\n",
    "\n",
    "            #linear decision layers\n",
    "            \"\"\"compute the output size for the convolutional layers\n",
    "                then make it the input size for the linear layers\"\"\"\n",
    "            self.fc1 = nn.Linear(7*7*6,50) \n",
    "            self.fc2 = nn.Linear(50,27)\n",
    "    \n",
    "        def forward(self, x):\n",
    "            if self.print: print(f'Input: {list(x.shape)}')\n",
    "\n",
    "            # first block: convolution -> maxpool -> batchnorm -> relu\n",
    "            x = F.max_pool2d(self.conv1(x),2)\n",
    "            x = F.relu(self.bnorm1(x))\n",
    "            if self.print: print(f'First CPR block: {list(x.shape)}')\n",
    "\n",
    "            # second block \n",
    "            x = F.max_pool2d(self.conv2(x),2)\n",
    "            x = F.relu(self.bnorm2(x))\n",
    "            if self.print: print(f'Second CPR block: {list(x.shape)}')\n",
    "\n",
    "            # reshape for linear layer\n",
    "            nUnits = x.shape.numel()/x.shape[0]\n",
    "            x = x.view(-1,int(nUnits))\n",
    "            if self.print: print(f'Vectorized: {list(x.shape)}')\n",
    "\n",
    "            #linear layers\n",
    "            x = F.relu(self.fc1(x))\n",
    "            x = self.fc2(x)\n",
    "            if self.print: print(f'Final output: {list(x.shape)}')\n",
    "\n",
    "            return x"
   ]
  },
  {
   "cell_type": "code",
   "execution_count": 4,
   "metadata": {},
   "outputs": [
    {
     "data": {
      "text/plain": [
       "CNN(\n",
       "  (conv1): Conv2d(1, 6, kernel_size=(3, 3), stride=(1, 1), padding=(1, 1))\n",
       "  (bnorm1): BatchNorm2d(6, eps=1e-05, momentum=0.1, affine=True, track_running_stats=True)\n",
       "  (conv2): Conv2d(6, 6, kernel_size=(3, 3), stride=(1, 1), padding=(1, 1))\n",
       "  (bnorm2): BatchNorm2d(6, eps=1e-05, momentum=0.1, affine=True, track_running_stats=True)\n",
       "  (fc1): Linear(in_features=294, out_features=50, bias=True)\n",
       "  (fc2): Linear(in_features=50, out_features=27, bias=True)\n",
       ")"
      ]
     },
     "execution_count": 4,
     "metadata": {},
     "output_type": "execute_result"
    }
   ],
   "source": [
    "model = CNN(False)\n",
    "model.load_state_dict(torch.load('CNN.pth'))\n",
    "model.eval() # setting it to evaluation mode( parameters behave differently than training)"
   ]
  },
  {
   "cell_type": "markdown",
   "metadata": {},
   "source": [
    "### Working with GUI, \n",
    "    Makes popup window for user to draw on\n",
    "    saves the image from popup window and inverts colors \n",
    "    I am inverting the color as the model was trained on the inverted color scheme of the pop up window\n",
    "    then data pipeline is created so model can properly classifiy image/ letter\n",
    "    (one difference is images were not normalized and model performance increased in this step)"
   ]
  },
  {
   "cell_type": "code",
   "execution_count": 5,
   "metadata": {},
   "outputs": [],
   "source": [
    "alphabet_mapping = {\n",
    "    1: 'A', 2: 'B', 3: 'C', 4: 'D', 5: 'E', 6: 'F', 7: 'G', 8: 'H', 9: 'I', 10: 'J',\n",
    "    11: 'K', 12: 'L', 13: 'M', 14: 'N', 15: 'O', 16: 'P', 17: 'Q', 18: 'R', 19: 'S',\n",
    "    20: 'T', 21: 'U', 22: 'V', 23: 'W', 24: 'X', 25: 'Y', 26: 'Z'\n",
    "}"
   ]
  },
  {
   "cell_type": "code",
   "execution_count": 9,
   "metadata": {},
   "outputs": [
    {
     "data": {
      "image/png": "[encoded data removed]",
      "text/plain": [
       "<Figure size 640x480 with 1 Axes>"
      ]
     },
     "metadata": {},
     "output_type": "display_data"
    },
    {
     "name": "stdout",
     "output_type": "stream",
     "text": [
      "Predicted class: 13\n",
      "Predicted class: M\n"
     ]
    },
    {
     "data": {
      "image/png": "[encoded data removed]",
      "text/plain": [
       "<Figure size 640x480 with 1 Axes>"
      ]
     },
     "metadata": {},
     "output_type": "display_data"
    },
    {
     "name": "stdout",
     "output_type": "stream",
     "text": [
      "Predicted class: 2\n",
      "Predicted class: B\n"
     ]
    },
    {
     "data": {
      "image/png": "[encoded data removed]",
      "text/plain": [
       "<Figure size 640x480 with 1 Axes>"
      ]
     },
     "metadata": {},
     "output_type": "display_data"
    },
    {
     "name": "stdout",
     "output_type": "stream",
     "text": [
      "Predicted class: 4\n",
      "Predicted class: D\n"
     ]
    }
   ],
   "source": [
    "def classify_image(model, dataloader):\n",
    "     # Iterate over the dataloader to get batches of data\n",
    "    for batch in dataloader:\n",
    "        # Extract the input tensor from the batch\n",
    "        input_tensor = batch[0]  # Assuming the input tensor is at index 0\n",
    "        \n",
    "        # Perform inference with the model\n",
    "        with torch.no_grad():\n",
    "            output = model(input_tensor) # Forward pass\n",
    "        \n",
    "        probabilities = F.softmax(output, dim=1)  # Perform post-processing (e.g., softmax) on the output\n",
    "    \n",
    "        predicted_class = torch.argmax(probabilities, dim=1)  # Get the predicted class index\n",
    "        print(\"Predicted class:\", predicted_class.item())\n",
    "        \n",
    "        # Optionally, you can return the predicted class or probabilities for further processing\n",
    "        return predicted_class.item(), probabilities.numpy()\n",
    "\n",
    "def display_image_from_dataloader(dataloader):\n",
    "    # Iterate over the dataloader to get a single batch\n",
    "    for batch in dataloader:\n",
    "        # Extract the input tensor from the batch\n",
    "        input_tensor = batch[0]  # Assuming the input tensor is at index 0\n",
    "        \n",
    "        # Convert the tensor to a NumPy array and reshape it\n",
    "        img_array = input_tensor.numpy().squeeze()\n",
    "        \n",
    "        # Display the image using Matplotlib\n",
    "        plt.imshow(img_array, cmap='gray')\n",
    "        plt.axis('off')\n",
    "        plt.show()\n",
    "\n",
    "\n",
    "def clear_canvas():\n",
    "    canvas.delete(\"all\")\n",
    "\n",
    "def draw(event):\n",
    "    x, y = event.x, event.y\n",
    "    r = 24  # Adjust the size of the brush\n",
    "    canvas.create_oval(x - r, y - r, x + r, y + r, fill='black')\n",
    "\n",
    "def save_drawing():\n",
    "    \n",
    "    timestamp = time.strftime(\"%Y%m%d-%H%M%S\")\n",
    "    filename = f\"drawn_image_{timestamp}.eps\"\n",
    "    canvas.postscript(file=filename, colormode='color')  # Save the canvas contents as a PostScript file\n",
    "    img = Image.open(filename) # Open the saved PostScript file using PIL\n",
    "\n",
    "    img_grayscale = img.convert('L') # for correct number of channels\n",
    "    img_resized = img_grayscale.resize((28, 28))\n",
    "    img_array = np.array(img_resized) # Convert the PIL image to a NumPy array\n",
    "    img_inverted = np.invert(img_array) # invert from white to black\n",
    "    img_reshaped = img_inverted.reshape((28,28)) # 28 by 28 matrix\n",
    "    \n",
    "    img_tensor = torch.from_numpy(img_reshaped)\n",
    "    img_tensor_float = img_tensor.to(torch.float32)\n",
    "\n",
    "\n",
    "    # img_tensor_normalized = F.normalize(img_tensor_float, dim = 1) # normalizing tensor values\n",
    "    img_tensor_batched = img_tensor_float.unsqueeze(0).unsqueeze(0) # Adding correct batch value & channel dimensions\n",
    "    \n",
    "    img_array = img_tensor_batched.squeeze().numpy()  # Squeeze to remove batch and channel dimensions\n",
    "\n",
    "    # Plot the image\n",
    "    plt.imshow(img_array, cmap='gray')  # Assuming grayscale image\n",
    "    plt.axis('off')  # Turn off axis\n",
    "    plt.show()\n",
    "\n",
    "    dataset = TensorDataset(img_tensor_batched)\n",
    "    dataloader = DataLoader(dataset, batch_size=1, shuffle=False)\n",
    "\n",
    "    # display_image_from_dataloader(dataloader)\n",
    "\n",
    "    predicted_class, probabilities = classify_image(model, dataloader)\n",
    "    predicted_letter = alphabet_mapping[predicted_class]        \n",
    "    print(\"Predicted class:\", predicted_letter)\n",
    "\n",
    "\n",
    "# Create the main window\n",
    "root = tk.Tk()\n",
    "root.title(\"Handwriting Classification Demo\")\n",
    "\n",
    "# Create a canvas where users can draw\n",
    "canvas = tk.Canvas(root, width=500, height=500, bg='white', highlightthickness=0)\n",
    "canvas.pack()\n",
    "\n",
    "# Bind mouse events to the canvas\n",
    "canvas.bind(\"<B1-Motion>\", draw)\n",
    "\n",
    "# Create buttons\n",
    "clear_button = tk.Button(root, text=\"Clear\", command=clear_canvas)\n",
    "clear_button.pack(side=tk.LEFT)\n",
    "save_button = tk.Button(root, text=\"Save Drawing\", command=save_drawing)\n",
    "save_button.pack(side=tk.LEFT)\n",
    "\n",
    "# Run the GUI loop\n",
    "root.mainloop()"
   ]
  }
 ],
 "metadata": {
  "kernelspec": {
   "display_name": "ML",
   "language": "python",
   "name": "python3"
  },
  "language_info": {
   "codemirror_mode": {
    "name": "ipython",
    "version": 3
   },
   "file_extension": ".py",
   "mimetype": "text/x-python",
   "name": "python",
   "nbconvert_exporter": "python",
   "pygments_lexer": "ipython3",
   "version": "3.12.2"
  }
 },
 "nbformat": 4,
 "nbformat_minor": 2
}
